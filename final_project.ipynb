{
  "nbformat": 4,
  "nbformat_minor": 0,
  "metadata": {
    "kernelspec": {
      "display_name": "Python 3",
      "language": "python",
      "name": "python3"
    },
    "language_info": {
      "codemirror_mode": {
        "name": "ipython",
        "version": 3
      },
      "file_extension": ".py",
      "mimetype": "text/x-python",
      "name": "python",
      "nbconvert_exporter": "python",
      "pygments_lexer": "ipython3",
      "version": "3.7.6"
    },
    "colab": {
      "name": "final project.ipynb",
      "provenance": [],
      "collapsed_sections": []
    }
  },
  "cells": [
    {
      "cell_type": "markdown",
      "metadata": {
        "id": "ljG1ifdwvrbI",
        "colab_type": "text"
      },
      "source": [
        "## Importing Dataset and Libraries"
      ]
    },
    {
      "cell_type": "code",
      "metadata": {
        "id": "iFNkmN0YvrbL",
        "colab_type": "code",
        "colab": {
          "base_uri": "https://localhost:8080/",
          "height": 258
        },
        "outputId": "862ffa5d-bd1f-435f-83b1-2a430f5c03f5"
      },
      "source": [
        "import seaborn as sns\n",
        "import matplotlib.pyplot as plt\n",
        "import numpy as np\n",
        "import pandas as pd\n",
        "\n",
        "# Set global styles for plots\n",
        "sns.set_style(style='white')\n",
        "sns.set_context(context='notebook', font_scale=1.3, rc={'figure.figsize': (16,9)})\n",
        "\n",
        "df1=pd.read_csv(\"/content/drive/My Drive/train.csv\")\n",
        "df2=pd.read_csv(\"/content/drive/My Drive/test.csv\")\n",
        "\n",
        "df2.head()"
      ],
      "execution_count": 1,
      "outputs": [
        {
          "output_type": "stream",
          "text": [
            "/usr/local/lib/python3.6/dist-packages/statsmodels/tools/_testing.py:19: FutureWarning: pandas.util.testing is deprecated. Use the functions in the public API at pandas.testing instead.\n",
            "  import pandas.util.testing as tm\n"
          ],
          "name": "stderr"
        },
        {
          "output_type": "execute_result",
          "data": {
            "text/html": [
              "<div>\n",
              "<style scoped>\n",
              "    .dataframe tbody tr th:only-of-type {\n",
              "        vertical-align: middle;\n",
              "    }\n",
              "\n",
              "    .dataframe tbody tr th {\n",
              "        vertical-align: top;\n",
              "    }\n",
              "\n",
              "    .dataframe thead th {\n",
              "        text-align: right;\n",
              "    }\n",
              "</style>\n",
              "<table border=\"1\" class=\"dataframe\">\n",
              "  <thead>\n",
              "    <tr style=\"text-align: right;\">\n",
              "      <th></th>\n",
              "      <th>Hotel Name</th>\n",
              "      <th>reviews.text</th>\n",
              "      <th>reviews.rating</th>\n",
              "      <th>hotel Url</th>\n",
              "    </tr>\n",
              "  </thead>\n",
              "  <tbody>\n",
              "    <tr>\n",
              "      <th>0</th>\n",
              "      <td>Jacob's Pickles</td>\n",
              "      <td>It has been months since I have had Jacob's Pi...</td>\n",
              "      <td>5</td>\n",
              "      <td>https://www.yelp.com/biz/jacobs-pickles-new-yo...</td>\n",
              "    </tr>\n",
              "    <tr>\n",
              "      <th>1</th>\n",
              "      <td>Jacob's Pickles</td>\n",
              "      <td>I don't think I even have the words. This plac...</td>\n",
              "      <td>5</td>\n",
              "      <td>https://www.yelp.com/biz/jacobs-pickles-new-yo...</td>\n",
              "    </tr>\n",
              "    <tr>\n",
              "      <th>2</th>\n",
              "      <td>Jacob's Pickles</td>\n",
              "      <td>This place is very good; it's just a little he...</td>\n",
              "      <td>5</td>\n",
              "      <td>https://www.yelp.com/biz/jacobs-pickles-new-yo...</td>\n",
              "    </tr>\n",
              "    <tr>\n",
              "      <th>3</th>\n",
              "      <td>Jacob's Pickles</td>\n",
              "      <td>Customer service : super friendly. If they had...</td>\n",
              "      <td>5</td>\n",
              "      <td>https://www.yelp.com/biz/jacobs-pickles-new-yo...</td>\n",
              "    </tr>\n",
              "    <tr>\n",
              "      <th>4</th>\n",
              "      <td>Jacob's Pickles</td>\n",
              "      <td>Ordered brunch delivery during COVID pandemic ...</td>\n",
              "      <td>4</td>\n",
              "      <td>https://www.yelp.com/biz/jacobs-pickles-new-yo...</td>\n",
              "    </tr>\n",
              "  </tbody>\n",
              "</table>\n",
              "</div>"
            ],
            "text/plain": [
              "        Hotel Name  ...                                          hotel Url\n",
              "0  Jacob's Pickles  ...  https://www.yelp.com/biz/jacobs-pickles-new-yo...\n",
              "1  Jacob's Pickles  ...  https://www.yelp.com/biz/jacobs-pickles-new-yo...\n",
              "2  Jacob's Pickles  ...  https://www.yelp.com/biz/jacobs-pickles-new-yo...\n",
              "3  Jacob's Pickles  ...  https://www.yelp.com/biz/jacobs-pickles-new-yo...\n",
              "4  Jacob's Pickles  ...  https://www.yelp.com/biz/jacobs-pickles-new-yo...\n",
              "\n",
              "[5 rows x 4 columns]"
            ]
          },
          "metadata": {
            "tags": []
          },
          "execution_count": 1
        }
      ]
    },
    {
      "cell_type": "code",
      "metadata": {
        "id": "WaISrSEi0JK7",
        "colab_type": "code",
        "colab": {
          "base_uri": "https://localhost:8080/",
          "height": 34
        },
        "outputId": "d541dc59-108e-46af-ab1a-d743a35d5616"
      },
      "source": [
        "from google.colab import drive\n",
        "drive.mount('/content/drive')"
      ],
      "execution_count": 2,
      "outputs": [
        {
          "output_type": "stream",
          "text": [
            "Drive already mounted at /content/drive; to attempt to forcibly remount, call drive.mount(\"/content/drive\", force_remount=True).\n"
          ],
          "name": "stdout"
        }
      ]
    },
    {
      "cell_type": "code",
      "metadata": {
        "id": "7HbbsTPbOdFY",
        "colab_type": "code",
        "colab": {
          "base_uri": "https://localhost:8080/",
          "height": 265
        },
        "outputId": "01b476ae-3587-4a07-d8a5-0ffa60d2c422"
      },
      "source": [
        "df2[\"reviews.rating\"].value_counts().plot(kind='pie', autopct='%1.0f%%')\n"
      ],
      "execution_count": 3,
      "outputs": [
        {
          "output_type": "execute_result",
          "data": {
            "text/plain": [
              "<matplotlib.axes._subplots.AxesSubplot at 0x7fc436653240>"
            ]
          },
          "metadata": {
            "tags": []
          },
          "execution_count": 3
        },
        {
          "output_type": "display_data",
          "data": {
            "image/png": "[encoded data removed]",
            "text/plain": [
              "<Figure size 432x288 with 1 Axes>"
            ]
          },
          "metadata": {
            "tags": []
          }
        }
      ]
    },
    {
      "cell_type": "code",
      "metadata": {
        "id": "odbPR6DNQLL2",
        "colab_type": "code",
        "colab": {
          "base_uri": "https://localhost:8080/",
          "height": 265
        },
        "outputId": "7b29497c-eead-437a-e968-c60764e8e2c0"
      },
      "source": [
        "df1[\"reviews.rating\"].value_counts().plot(kind='pie', autopct='%1.0f%%')"
      ],
      "execution_count": 4,
      "outputs": [
        {
          "output_type": "execute_result",
          "data": {
            "text/plain": [
              "<matplotlib.axes._subplots.AxesSubplot at 0x7fc436130a20>"
            ]
          },
          "metadata": {
            "tags": []
          },
          "execution_count": 4
        },
        {
          "output_type": "display_data",
          "data": {
            "image/png": "[encoded data removed]",
            "text/plain": [
              "<Figure size 432x288 with 1 Axes>"
            ]
          },
          "metadata": {
            "tags": []
          }
        }
      ]
    },
    {
      "cell_type": "markdown",
      "metadata": {
        "id": "mygRTNImvrbW",
        "colab_type": "text"
      },
      "source": [
        "## Removing the Unused Colums"
      ]
    },
    {
      "cell_type": "code",
      "metadata": {
        "id": "stZ8rjr8vrbX",
        "colab_type": "code",
        "colab": {
          "base_uri": "https://localhost:8080/",
          "height": 419
        },
        "outputId": "602c926d-0c39-480b-91e5-4cb76f8aade2"
      },
      "source": [
        "df1=df1.drop(['id', 'dateAdded', 'dateUpdated', 'address', 'categories',\n",
        "       'primaryCategories', 'city', 'country', 'keys', 'latitude', 'longitude',\n",
        "       'name', 'postalCode', 'province', 'reviews.date', 'reviews.dateSeen',\n",
        "       'reviews.sourceURLs', 'reviews.title','reviews.userCity', 'reviews.userProvince', 'reviews.username',\n",
        "       'sourceURLs', 'websites'], axis=1)\n",
        "df1\n"
      ],
      "execution_count": 5,
      "outputs": [
        {
          "output_type": "execute_result",
          "data": {
            "text/html": [
              "<div>\n",
              "<style scoped>\n",
              "    .dataframe tbody tr th:only-of-type {\n",
              "        vertical-align: middle;\n",
              "    }\n",
              "\n",
              "    .dataframe tbody tr th {\n",
              "        vertical-align: top;\n",
              "    }\n",
              "\n",
              "    .dataframe thead th {\n",
              "        text-align: right;\n",
              "    }\n",
              "</style>\n",
              "<table border=\"1\" class=\"dataframe\">\n",
              "  <thead>\n",
              "    <tr style=\"text-align: right;\">\n",
              "      <th></th>\n",
              "      <th>reviews.rating</th>\n",
              "      <th>reviews.text</th>\n",
              "    </tr>\n",
              "  </thead>\n",
              "  <tbody>\n",
              "    <tr>\n",
              "      <th>0</th>\n",
              "      <td>5.0</td>\n",
              "      <td>Our experience at Rancho Valencia was absolute...</td>\n",
              "    </tr>\n",
              "    <tr>\n",
              "      <th>1</th>\n",
              "      <td>5.0</td>\n",
              "      <td>Amazing place. Everyone was extremely warm and...</td>\n",
              "    </tr>\n",
              "    <tr>\n",
              "      <th>2</th>\n",
              "      <td>5.0</td>\n",
              "      <td>We booked a 3 night stay at Rancho Valencia to...</td>\n",
              "    </tr>\n",
              "    <tr>\n",
              "      <th>3</th>\n",
              "      <td>2.0</td>\n",
              "      <td>Currently in bed writing this for the past hr ...</td>\n",
              "    </tr>\n",
              "    <tr>\n",
              "      <th>4</th>\n",
              "      <td>5.0</td>\n",
              "      <td>I live in Md and the Aloft is my Home away fro...</td>\n",
              "    </tr>\n",
              "    <tr>\n",
              "      <th>...</th>\n",
              "      <td>...</td>\n",
              "      <td>...</td>\n",
              "    </tr>\n",
              "    <tr>\n",
              "      <th>9995</th>\n",
              "      <td>3.0</td>\n",
              "      <td>It is hard for me to review an oceanfront hote...</td>\n",
              "    </tr>\n",
              "    <tr>\n",
              "      <th>9996</th>\n",
              "      <td>4.0</td>\n",
              "      <td>I live close by, and needed to stay somewhere ...</td>\n",
              "    </tr>\n",
              "    <tr>\n",
              "      <th>9997</th>\n",
              "      <td>4.0</td>\n",
              "      <td>Rolled in 11:30 laid out heads down woke up to...</td>\n",
              "    </tr>\n",
              "    <tr>\n",
              "      <th>9998</th>\n",
              "      <td>1.0</td>\n",
              "      <td>Absolutely terrible..I was told I was being gi...</td>\n",
              "    </tr>\n",
              "    <tr>\n",
              "      <th>9999</th>\n",
              "      <td>1.0</td>\n",
              "      <td>Filthy, outdated, noisy neighbours, but this w...</td>\n",
              "    </tr>\n",
              "  </tbody>\n",
              "</table>\n",
              "<p>10000 rows × 2 columns</p>\n",
              "</div>"
            ],
            "text/plain": [
              "      reviews.rating                                       reviews.text\n",
              "0                5.0  Our experience at Rancho Valencia was absolute...\n",
              "1                5.0  Amazing place. Everyone was extremely warm and...\n",
              "2                5.0  We booked a 3 night stay at Rancho Valencia to...\n",
              "3                2.0  Currently in bed writing this for the past hr ...\n",
              "4                5.0  I live in Md and the Aloft is my Home away fro...\n",
              "...              ...                                                ...\n",
              "9995             3.0  It is hard for me to review an oceanfront hote...\n",
              "9996             4.0  I live close by, and needed to stay somewhere ...\n",
              "9997             4.0  Rolled in 11:30 laid out heads down woke up to...\n",
              "9998             1.0  Absolutely terrible..I was told I was being gi...\n",
              "9999             1.0  Filthy, outdated, noisy neighbours, but this w...\n",
              "\n",
              "[10000 rows x 2 columns]"
            ]
          },
          "metadata": {
            "tags": []
          },
          "execution_count": 5
        }
      ]
    },
    {
      "cell_type": "code",
      "metadata": {
        "id": "kiGtM8BAvrbf",
        "colab_type": "code",
        "colab": {
          "base_uri": "https://localhost:8080/",
          "height": 419
        },
        "outputId": "d23392c0-511a-42eb-dc83-e9689501cee4"
      },
      "source": [
        "df2=df2.drop(['Hotel Name','hotel Url'], axis=1)\n",
        "df2"
      ],
      "execution_count": 6,
      "outputs": [
        {
          "output_type": "execute_result",
          "data": {
            "text/html": [
              "<div>\n",
              "<style scoped>\n",
              "    .dataframe tbody tr th:only-of-type {\n",
              "        vertical-align: middle;\n",
              "    }\n",
              "\n",
              "    .dataframe tbody tr th {\n",
              "        vertical-align: top;\n",
              "    }\n",
              "\n",
              "    .dataframe thead th {\n",
              "        text-align: right;\n",
              "    }\n",
              "</style>\n",
              "<table border=\"1\" class=\"dataframe\">\n",
              "  <thead>\n",
              "    <tr style=\"text-align: right;\">\n",
              "      <th></th>\n",
              "      <th>reviews.text</th>\n",
              "      <th>reviews.rating</th>\n",
              "    </tr>\n",
              "  </thead>\n",
              "  <tbody>\n",
              "    <tr>\n",
              "      <th>0</th>\n",
              "      <td>It has been months since I have had Jacob's Pi...</td>\n",
              "      <td>5</td>\n",
              "    </tr>\n",
              "    <tr>\n",
              "      <th>1</th>\n",
              "      <td>I don't think I even have the words. This plac...</td>\n",
              "      <td>5</td>\n",
              "    </tr>\n",
              "    <tr>\n",
              "      <th>2</th>\n",
              "      <td>This place is very good; it's just a little he...</td>\n",
              "      <td>5</td>\n",
              "    </tr>\n",
              "    <tr>\n",
              "      <th>3</th>\n",
              "      <td>Customer service : super friendly. If they had...</td>\n",
              "      <td>5</td>\n",
              "    </tr>\n",
              "    <tr>\n",
              "      <th>4</th>\n",
              "      <td>Ordered brunch delivery during COVID pandemic ...</td>\n",
              "      <td>4</td>\n",
              "    </tr>\n",
              "    <tr>\n",
              "      <th>...</th>\n",
              "      <td>...</td>\n",
              "      <td>...</td>\n",
              "    </tr>\n",
              "    <tr>\n",
              "      <th>5190</th>\n",
              "      <td>Love the atmosphere and the food is to die for...</td>\n",
              "      <td>5</td>\n",
              "    </tr>\n",
              "    <tr>\n",
              "      <th>5191</th>\n",
              "      <td>This is easily the best soul food out there (p...</td>\n",
              "      <td>5</td>\n",
              "    </tr>\n",
              "    <tr>\n",
              "      <th>5192</th>\n",
              "      <td>I'm so amazed about the service here Elliott a...</td>\n",
              "      <td>5</td>\n",
              "    </tr>\n",
              "    <tr>\n",
              "      <th>5193</th>\n",
              "      <td>The food was outstanding. As a real southern g...</td>\n",
              "      <td>5</td>\n",
              "    </tr>\n",
              "    <tr>\n",
              "      <th>5194</th>\n",
              "      <td>Had a lovely ladies brunch here. We couldn't m...</td>\n",
              "      <td>4</td>\n",
              "    </tr>\n",
              "  </tbody>\n",
              "</table>\n",
              "<p>5195 rows × 2 columns</p>\n",
              "</div>"
            ],
            "text/plain": [
              "                                           reviews.text  reviews.rating\n",
              "0     It has been months since I have had Jacob's Pi...               5\n",
              "1     I don't think I even have the words. This plac...               5\n",
              "2     This place is very good; it's just a little he...               5\n",
              "3     Customer service : super friendly. If they had...               5\n",
              "4     Ordered brunch delivery during COVID pandemic ...               4\n",
              "...                                                 ...             ...\n",
              "5190  Love the atmosphere and the food is to die for...               5\n",
              "5191  This is easily the best soul food out there (p...               5\n",
              "5192  I'm so amazed about the service here Elliott a...               5\n",
              "5193  The food was outstanding. As a real southern g...               5\n",
              "5194  Had a lovely ladies brunch here. We couldn't m...               4\n",
              "\n",
              "[5195 rows x 2 columns]"
            ]
          },
          "metadata": {
            "tags": []
          },
          "execution_count": 6
        }
      ]
    },
    {
      "cell_type": "markdown",
      "metadata": {
        "id": "Cmo9zKtdvrbm",
        "colab_type": "text"
      },
      "source": [
        "## Adding Both DataFrames"
      ]
    },
    {
      "cell_type": "code",
      "metadata": {
        "id": "AnfP4xuMvrbo",
        "colab_type": "code",
        "colab": {
          "base_uri": "https://localhost:8080/",
          "height": 419
        },
        "outputId": "b9dcfdf9-0016-4efe-98a7-9ba1e29e41dc"
      },
      "source": [
        "df = pd.concat([df1, df2],ignore_index=True)\n",
        "df\n"
      ],
      "execution_count": 7,
      "outputs": [
        {
          "output_type": "execute_result",
          "data": {
            "text/html": [
              "<div>\n",
              "<style scoped>\n",
              "    .dataframe tbody tr th:only-of-type {\n",
              "        vertical-align: middle;\n",
              "    }\n",
              "\n",
              "    .dataframe tbody tr th {\n",
              "        vertical-align: top;\n",
              "    }\n",
              "\n",
              "    .dataframe thead th {\n",
              "        text-align: right;\n",
              "    }\n",
              "</style>\n",
              "<table border=\"1\" class=\"dataframe\">\n",
              "  <thead>\n",
              "    <tr style=\"text-align: right;\">\n",
              "      <th></th>\n",
              "      <th>reviews.rating</th>\n",
              "      <th>reviews.text</th>\n",
              "    </tr>\n",
              "  </thead>\n",
              "  <tbody>\n",
              "    <tr>\n",
              "      <th>0</th>\n",
              "      <td>5.0</td>\n",
              "      <td>Our experience at Rancho Valencia was absolute...</td>\n",
              "    </tr>\n",
              "    <tr>\n",
              "      <th>1</th>\n",
              "      <td>5.0</td>\n",
              "      <td>Amazing place. Everyone was extremely warm and...</td>\n",
              "    </tr>\n",
              "    <tr>\n",
              "      <th>2</th>\n",
              "      <td>5.0</td>\n",
              "      <td>We booked a 3 night stay at Rancho Valencia to...</td>\n",
              "    </tr>\n",
              "    <tr>\n",
              "      <th>3</th>\n",
              "      <td>2.0</td>\n",
              "      <td>Currently in bed writing this for the past hr ...</td>\n",
              "    </tr>\n",
              "    <tr>\n",
              "      <th>4</th>\n",
              "      <td>5.0</td>\n",
              "      <td>I live in Md and the Aloft is my Home away fro...</td>\n",
              "    </tr>\n",
              "    <tr>\n",
              "      <th>...</th>\n",
              "      <td>...</td>\n",
              "      <td>...</td>\n",
              "    </tr>\n",
              "    <tr>\n",
              "      <th>15190</th>\n",
              "      <td>5.0</td>\n",
              "      <td>Love the atmosphere and the food is to die for...</td>\n",
              "    </tr>\n",
              "    <tr>\n",
              "      <th>15191</th>\n",
              "      <td>5.0</td>\n",
              "      <td>This is easily the best soul food out there (p...</td>\n",
              "    </tr>\n",
              "    <tr>\n",
              "      <th>15192</th>\n",
              "      <td>5.0</td>\n",
              "      <td>I'm so amazed about the service here Elliott a...</td>\n",
              "    </tr>\n",
              "    <tr>\n",
              "      <th>15193</th>\n",
              "      <td>5.0</td>\n",
              "      <td>The food was outstanding. As a real southern g...</td>\n",
              "    </tr>\n",
              "    <tr>\n",
              "      <th>15194</th>\n",
              "      <td>4.0</td>\n",
              "      <td>Had a lovely ladies brunch here. We couldn't m...</td>\n",
              "    </tr>\n",
              "  </tbody>\n",
              "</table>\n",
              "<p>15195 rows × 2 columns</p>\n",
              "</div>"
            ],
            "text/plain": [
              "       reviews.rating                                       reviews.text\n",
              "0                 5.0  Our experience at Rancho Valencia was absolute...\n",
              "1                 5.0  Amazing place. Everyone was extremely warm and...\n",
              "2                 5.0  We booked a 3 night stay at Rancho Valencia to...\n",
              "3                 2.0  Currently in bed writing this for the past hr ...\n",
              "4                 5.0  I live in Md and the Aloft is my Home away fro...\n",
              "...               ...                                                ...\n",
              "15190             5.0  Love the atmosphere and the food is to die for...\n",
              "15191             5.0  This is easily the best soul food out there (p...\n",
              "15192             5.0  I'm so amazed about the service here Elliott a...\n",
              "15193             5.0  The food was outstanding. As a real southern g...\n",
              "15194             4.0  Had a lovely ladies brunch here. We couldn't m...\n",
              "\n",
              "[15195 rows x 2 columns]"
            ]
          },
          "metadata": {
            "tags": []
          },
          "execution_count": 7
        }
      ]
    },
    {
      "cell_type": "markdown",
      "metadata": {
        "id": "6t2uG-85vrbv",
        "colab_type": "text"
      },
      "source": [
        "## Filling Null Colums"
      ]
    },
    {
      "cell_type": "code",
      "metadata": {
        "id": "LRgF6EAHvrbx",
        "colab_type": "code",
        "colab": {}
      },
      "source": [
        "df=df.fillna(\" no review\")\n"
      ],
      "execution_count": 8,
      "outputs": []
    },
    {
      "cell_type": "markdown",
      "metadata": {
        "id": "gdTNAs8svrb4",
        "colab_type": "text"
      },
      "source": [
        "## Creating Label Column in DataFrame"
      ]
    },
    {
      "cell_type": "code",
      "metadata": {
        "id": "50Lbsettvrb5",
        "colab_type": "code",
        "colab": {
          "base_uri": "https://localhost:8080/",
          "height": 419
        },
        "outputId": "d4fd2e46-7ea6-41c0-eb79-f8b5b4489e17"
      },
      "source": [
        "a=[]\n",
        "for i in df[\"reviews.rating\"]:\n",
        "    if i <= 3:\n",
        "        a.append(-1)\n",
        "    else:\n",
        "        a.append(1)\n",
        "df[\"label\"]=a\n",
        "df"
      ],
      "execution_count": 9,
      "outputs": [
        {
          "output_type": "execute_result",
          "data": {
            "text/html": [
              "<div>\n",
              "<style scoped>\n",
              "    .dataframe tbody tr th:only-of-type {\n",
              "        vertical-align: middle;\n",
              "    }\n",
              "\n",
              "    .dataframe tbody tr th {\n",
              "        vertical-align: top;\n",
              "    }\n",
              "\n",
              "    .dataframe thead th {\n",
              "        text-align: right;\n",
              "    }\n",
              "</style>\n",
              "<table border=\"1\" class=\"dataframe\">\n",
              "  <thead>\n",
              "    <tr style=\"text-align: right;\">\n",
              "      <th></th>\n",
              "      <th>reviews.rating</th>\n",
              "      <th>reviews.text</th>\n",
              "      <th>label</th>\n",
              "    </tr>\n",
              "  </thead>\n",
              "  <tbody>\n",
              "    <tr>\n",
              "      <th>0</th>\n",
              "      <td>5.0</td>\n",
              "      <td>Our experience at Rancho Valencia was absolute...</td>\n",
              "      <td>1</td>\n",
              "    </tr>\n",
              "    <tr>\n",
              "      <th>1</th>\n",
              "      <td>5.0</td>\n",
              "      <td>Amazing place. Everyone was extremely warm and...</td>\n",
              "      <td>1</td>\n",
              "    </tr>\n",
              "    <tr>\n",
              "      <th>2</th>\n",
              "      <td>5.0</td>\n",
              "      <td>We booked a 3 night stay at Rancho Valencia to...</td>\n",
              "      <td>1</td>\n",
              "    </tr>\n",
              "    <tr>\n",
              "      <th>3</th>\n",
              "      <td>2.0</td>\n",
              "      <td>Currently in bed writing this for the past hr ...</td>\n",
              "      <td>-1</td>\n",
              "    </tr>\n",
              "    <tr>\n",
              "      <th>4</th>\n",
              "      <td>5.0</td>\n",
              "      <td>I live in Md and the Aloft is my Home away fro...</td>\n",
              "      <td>1</td>\n",
              "    </tr>\n",
              "    <tr>\n",
              "      <th>...</th>\n",
              "      <td>...</td>\n",
              "      <td>...</td>\n",
              "      <td>...</td>\n",
              "    </tr>\n",
              "    <tr>\n",
              "      <th>15190</th>\n",
              "      <td>5.0</td>\n",
              "      <td>Love the atmosphere and the food is to die for...</td>\n",
              "      <td>1</td>\n",
              "    </tr>\n",
              "    <tr>\n",
              "      <th>15191</th>\n",
              "      <td>5.0</td>\n",
              "      <td>This is easily the best soul food out there (p...</td>\n",
              "      <td>1</td>\n",
              "    </tr>\n",
              "    <tr>\n",
              "      <th>15192</th>\n",
              "      <td>5.0</td>\n",
              "      <td>I'm so amazed about the service here Elliott a...</td>\n",
              "      <td>1</td>\n",
              "    </tr>\n",
              "    <tr>\n",
              "      <th>15193</th>\n",
              "      <td>5.0</td>\n",
              "      <td>The food was outstanding. As a real southern g...</td>\n",
              "      <td>1</td>\n",
              "    </tr>\n",
              "    <tr>\n",
              "      <th>15194</th>\n",
              "      <td>4.0</td>\n",
              "      <td>Had a lovely ladies brunch here. We couldn't m...</td>\n",
              "      <td>1</td>\n",
              "    </tr>\n",
              "  </tbody>\n",
              "</table>\n",
              "<p>15195 rows × 3 columns</p>\n",
              "</div>"
            ],
            "text/plain": [
              "       reviews.rating                                       reviews.text  label\n",
              "0                 5.0  Our experience at Rancho Valencia was absolute...      1\n",
              "1                 5.0  Amazing place. Everyone was extremely warm and...      1\n",
              "2                 5.0  We booked a 3 night stay at Rancho Valencia to...      1\n",
              "3                 2.0  Currently in bed writing this for the past hr ...     -1\n",
              "4                 5.0  I live in Md and the Aloft is my Home away fro...      1\n",
              "...               ...                                                ...    ...\n",
              "15190             5.0  Love the atmosphere and the food is to die for...      1\n",
              "15191             5.0  This is easily the best soul food out there (p...      1\n",
              "15192             5.0  I'm so amazed about the service here Elliott a...      1\n",
              "15193             5.0  The food was outstanding. As a real southern g...      1\n",
              "15194             4.0  Had a lovely ladies brunch here. We couldn't m...      1\n",
              "\n",
              "[15195 rows x 3 columns]"
            ]
          },
          "metadata": {
            "tags": []
          },
          "execution_count": 9
        }
      ]
    },
    {
      "cell_type": "code",
      "metadata": {
        "id": "EBZUf_8zP0zr",
        "colab_type": "code",
        "colab": {
          "base_uri": "https://localhost:8080/",
          "height": 265
        },
        "outputId": "efb10837-1325-42a8-bb1a-1b17a6b73ad8"
      },
      "source": [
        "df[\"label\"].value_counts().plot(kind='pie', autopct='%1.0f%%')"
      ],
      "execution_count": 10,
      "outputs": [
        {
          "output_type": "execute_result",
          "data": {
            "text/plain": [
              "<matplotlib.axes._subplots.AxesSubplot at 0x7fc436e260f0>"
            ]
          },
          "metadata": {
            "tags": []
          },
          "execution_count": 10
        },
        {
          "output_type": "display_data",
          "data": {
            "image/png": "[encoded data removed]",
            "text/plain": [
              "<Figure size 432x288 with 1 Axes>"
            ]
          },
          "metadata": {
            "tags": []
          }
        }
      ]
    },
    {
      "cell_type": "markdown",
      "metadata": {
        "id": "cDLVokfSvrcB",
        "colab_type": "text"
      },
      "source": [
        "## Cleaning Data"
      ]
    },
    {
      "cell_type": "code",
      "metadata": {
        "id": "AkrAlh64vrcC",
        "colab_type": "code",
        "colab": {}
      },
      "source": [
        "import re\n",
        "def preprocessor(text):\n",
        "    text = re.sub('<[^>]*>', '', text)\n",
        "    emoticons = re.findall('(?::|;|=)(?:-)?(?:\\)|\\(|D|P)', text)\n",
        "    text = re.sub('[\\W]+', ' ', text.lower()) +\\\n",
        "        ' '.join(emoticons).replace('-', '')\n",
        "    return text\n",
        "\n",
        "df[\"reviews.text\"]=df['reviews.text'].apply(preprocessor)"
      ],
      "execution_count": 11,
      "outputs": []
    },
    {
      "cell_type": "markdown",
      "metadata": {
        "id": "ssPDjd-wvrcJ",
        "colab_type": "text"
      },
      "source": [
        "## Count vectorization and tf-idf"
      ]
    },
    {
      "cell_type": "code",
      "metadata": {
        "id": "QtcnJu3m05iT",
        "colab_type": "code",
        "colab": {
          "base_uri": "https://localhost:8080/",
          "height": 68
        },
        "outputId": "085fab41-ce30-4d3c-8001-a07a5276ea62"
      },
      "source": [
        "import nltk\n",
        "nltk.download('stopwords')"
      ],
      "execution_count": 12,
      "outputs": [
        {
          "output_type": "stream",
          "text": [
            "[nltk_data] Downloading package stopwords to /root/nltk_data...\n",
            "[nltk_data]   Package stopwords is already up-to-date!\n"
          ],
          "name": "stdout"
        },
        {
          "output_type": "execute_result",
          "data": {
            "text/plain": [
              "True"
            ]
          },
          "metadata": {
            "tags": []
          },
          "execution_count": 12
        }
      ]
    },
    {
      "cell_type": "code",
      "metadata": {
        "id": "SXbd5VVCvrcK",
        "colab_type": "code",
        "colab": {
          "base_uri": "https://localhost:8080/",
          "height": 71
        },
        "outputId": "a66941ce-96d2-4de1-871a-cfe0052033ed"
      },
      "source": [
        "from sklearn.feature_extraction.text import CountVectorizer\n",
        "from nltk.corpus import stopwords\n",
        "from sklearn.feature_extraction.text import TfidfTransformer\n",
        "from nltk.stem.porter import PorterStemmer\n",
        "\n",
        "porter = PorterStemmer()\n",
        "\n",
        "def tokenizer(text):\n",
        "    return text.split()\n",
        "\n",
        "\n",
        "def tokenizer_porter(text):\n",
        "    return [porter.stem(word) for word in text.split()]\n",
        "\n",
        "vectorizer=CountVectorizer(stop_words=stopwords.words('english'), tokenizer=tokenizer_porter)\n",
        "X=vectorizer.fit_transform(df[\"reviews.text\"].values)\n",
        "np.set_printoptions(precision=2)\n",
        "\n",
        "\n",
        "tfidf = TfidfTransformer(use_idf=True, norm='l2', smooth_idf=True)\n",
        "X=tfidf.fit_transform(X).toarray()"
      ],
      "execution_count": 13,
      "outputs": [
        {
          "output_type": "stream",
          "text": [
            "/usr/local/lib/python3.6/dist-packages/sklearn/feature_extraction/text.py:385: UserWarning: Your stop_words may be inconsistent with your preprocessing. Tokenizing the stop words generated tokens ['abov', 'ani', 'becaus', 'befor', 'doe', 'dure', 'ha', 'hi', \"it'\", 'onc', 'onli', 'ourselv', \"she'\", \"should'v\", 'themselv', 'thi', 'veri', 'wa', 'whi', \"you'r\", \"you'v\", 'yourselv'] not in stop_words.\n",
            "  'stop_words.' % sorted(inconsistent))\n"
          ],
          "name": "stderr"
        }
      ]
    },
    {
      "cell_type": "code",
      "metadata": {
        "id": "fOCZR8RwvrcR",
        "colab_type": "code",
        "colab": {}
      },
      "source": [
        "y=df[\"label\"].values"
      ],
      "execution_count": 14,
      "outputs": []
    },
    {
      "cell_type": "markdown",
      "metadata": {
        "id": "eIW8ZXKFvrcY",
        "colab_type": "text"
      },
      "source": [
        "## Spliting testing and training datasets "
      ]
    },
    {
      "cell_type": "code",
      "metadata": {
        "id": "wSQTAirsvrcZ",
        "colab_type": "code",
        "colab": {}
      },
      "source": [
        "x_train=X[0:10000]\n",
        "x_test=X[10000:]\n",
        "y_train=df[\"label\"].values[0:10000]\n",
        "y_test=df[\"label\"].values[10000:]"
      ],
      "execution_count": 15,
      "outputs": []
    },
    {
      "cell_type": "markdown",
      "metadata": {
        "id": "N5LpAUgKvrcq",
        "colab_type": "text"
      },
      "source": [
        "## Creating Training  Models"
      ]
    },
    {
      "cell_type": "code",
      "metadata": {
        "id": "0vWFY3U0vrcr",
        "colab_type": "code",
        "colab": {
          "base_uri": "https://localhost:8080/",
          "height": 102
        },
        "outputId": "53daf50a-e807-4566-951f-1452d0d6d744"
      },
      "source": [
        "from sklearn.linear_model import LogisticRegression\n",
        "LR = LogisticRegression()\n",
        "LR.fit(x_train, y_train)"
      ],
      "execution_count": 16,
      "outputs": [
        {
          "output_type": "execute_result",
          "data": {
            "text/plain": [
              "LogisticRegression(C=1.0, class_weight=None, dual=False, fit_intercept=True,\n",
              "                   intercept_scaling=1, l1_ratio=None, max_iter=100,\n",
              "                   multi_class='auto', n_jobs=None, penalty='l2',\n",
              "                   random_state=None, solver='lbfgs', tol=0.0001, verbose=0,\n",
              "                   warm_start=False)"
            ]
          },
          "metadata": {
            "tags": []
          },
          "execution_count": 16
        }
      ]
    },
    {
      "cell_type": "code",
      "metadata": {
        "id": "Bdh9YEsUvrcx",
        "colab_type": "code",
        "colab": {
          "base_uri": "https://localhost:8080/",
          "height": 85
        },
        "outputId": "87b921ce-cf25-467a-d9d3-980a30365a1c"
      },
      "source": [
        "from sklearn import svm\n",
        "SVM = svm.LinearSVC()\n",
        "SVM.fit(x_train, y_train)\n"
      ],
      "execution_count": 17,
      "outputs": [
        {
          "output_type": "execute_result",
          "data": {
            "text/plain": [
              "LinearSVC(C=1.0, class_weight=None, dual=True, fit_intercept=True,\n",
              "          intercept_scaling=1, loss='squared_hinge', max_iter=1000,\n",
              "          multi_class='ovr', penalty='l2', random_state=None, tol=0.0001,\n",
              "          verbose=0)"
            ]
          },
          "metadata": {
            "tags": []
          },
          "execution_count": 17
        }
      ]
    },
    {
      "cell_type": "code",
      "metadata": {
        "id": "TmMboyMuvrc5",
        "colab_type": "code",
        "colab": {
          "base_uri": "https://localhost:8080/",
          "height": 34
        },
        "outputId": "ad3903b7-cf90-42da-9e5e-998e91c010d3"
      },
      "source": [
        "from sklearn.naive_bayes import MultinomialNB\n",
        "nb = MultinomialNB()\n",
        "nb.fit(x_train, y_train)\n"
      ],
      "execution_count": 18,
      "outputs": [
        {
          "output_type": "execute_result",
          "data": {
            "text/plain": [
              "MultinomialNB(alpha=1.0, class_prior=None, fit_prior=True)"
            ]
          },
          "metadata": {
            "tags": []
          },
          "execution_count": 18
        }
      ]
    },
    {
      "cell_type": "markdown",
      "metadata": {
        "id": "J2YfUsQ8vrdA",
        "colab_type": "text"
      },
      "source": [
        "## Checking Results"
      ]
    },
    {
      "cell_type": "code",
      "metadata": {
        "id": "PGgOp7isvrdB",
        "colab_type": "code",
        "colab": {}
      },
      "source": [
        "pred=LR.predict(x_test)"
      ],
      "execution_count": 19,
      "outputs": []
    },
    {
      "cell_type": "code",
      "metadata": {
        "id": "l3lSgAz2vrdH",
        "colab_type": "code",
        "colab": {
          "base_uri": "https://localhost:8080/",
          "height": 221
        },
        "outputId": "c14de859-142b-481c-c637-9ab773d7d7f1"
      },
      "source": [
        "from sklearn.metrics import classification_report, confusion_matrix, accuracy_score\n",
        "\n",
        "\n",
        "print(confusion_matrix(y_test,pred))\n",
        "print(classification_report(y_test,pred))\n",
        "print(accuracy_score(y_test, pred))"
      ],
      "execution_count": 20,
      "outputs": [
        {
          "output_type": "stream",
          "text": [
            "[[ 328  781]\n",
            " [  83 4003]]\n",
            "              precision    recall  f1-score   support\n",
            "\n",
            "          -1       0.80      0.30      0.43      1109\n",
            "           1       0.84      0.98      0.90      4086\n",
            "\n",
            "    accuracy                           0.83      5195\n",
            "   macro avg       0.82      0.64      0.67      5195\n",
            "weighted avg       0.83      0.83      0.80      5195\n",
            "\n",
            "0.8336862367661213\n"
          ],
          "name": "stdout"
        }
      ]
    },
    {
      "cell_type": "code",
      "metadata": {
        "id": "kyjBWS_Yvrda",
        "colab_type": "code",
        "colab": {
          "base_uri": "https://localhost:8080/",
          "height": 221
        },
        "outputId": "17e1ecf8-cf0a-4a1c-cde2-e0056cb5a8df"
      },
      "source": [
        "pred=SVM.predict(x_test)\n",
        "from sklearn.metrics import classification_report, confusion_matrix, accuracy_score\n",
        "\n",
        "print(confusion_matrix(y_test,pred))\n",
        "print(classification_report(y_test,pred))\n",
        "print(accuracy_score(y_test, pred))"
      ],
      "execution_count": 21,
      "outputs": [
        {
          "output_type": "stream",
          "text": [
            "[[ 478  631]\n",
            " [ 246 3840]]\n",
            "              precision    recall  f1-score   support\n",
            "\n",
            "          -1       0.66      0.43      0.52      1109\n",
            "           1       0.86      0.94      0.90      4086\n",
            "\n",
            "    accuracy                           0.83      5195\n",
            "   macro avg       0.76      0.69      0.71      5195\n",
            "weighted avg       0.82      0.83      0.82      5195\n",
            "\n",
            "0.8311838306063523\n"
          ],
          "name": "stdout"
        }
      ]
    },
    {
      "cell_type": "code",
      "metadata": {
        "id": "mFsEFZTmJOjt",
        "colab_type": "code",
        "colab": {
          "base_uri": "https://localhost:8080/",
          "height": 221
        },
        "outputId": "85284f54-ba7f-46a8-c73a-193b6250e094"
      },
      "source": [
        "pred=nb.predict(x_test)\n",
        "from sklearn.metrics import classification_report, confusion_matrix, accuracy_score\n",
        "\n",
        "print(confusion_matrix(y_test,pred))\n",
        "print(classification_report(y_test,pred))\n",
        "print(accuracy_score(y_test, pred))"
      ],
      "execution_count": 22,
      "outputs": [
        {
          "output_type": "stream",
          "text": [
            "[[  40 1069]\n",
            " [  15 4071]]\n",
            "              precision    recall  f1-score   support\n",
            "\n",
            "          -1       0.73      0.04      0.07      1109\n",
            "           1       0.79      1.00      0.88      4086\n",
            "\n",
            "    accuracy                           0.79      5195\n",
            "   macro avg       0.76      0.52      0.48      5195\n",
            "weighted avg       0.78      0.79      0.71      5195\n",
            "\n",
            "0.7913378248315688\n"
          ],
          "name": "stdout"
        }
      ]
    },
    {
      "cell_type": "code",
      "metadata": {
        "id": "kG6KQeKQKnAc",
        "colab_type": "code",
        "colab": {
          "base_uri": "https://localhost:8080/",
          "height": 296
        },
        "outputId": "48fdda3f-405e-4d3f-dc94-4e7b17dd856e"
      },
      "source": [
        "from sklearn.metrics import plot_confusion_matrix\n",
        "plot_confusion_matrix(LR, x_test, y_test) \n",
        "plt.show()\n"
      ],
      "execution_count": 23,
      "outputs": [
        {
          "output_type": "display_data",
          "data": {
            "image/png": "[encoded data removed]",
            "text/plain": [
              "<Figure size 432x288 with 2 Axes>"
            ]
          },
          "metadata": {
            "tags": [],
            "needs_background": "light"
          }
        }
      ]
    },
    {
      "cell_type": "code",
      "metadata": {
        "id": "TX8pdEkPSwI5",
        "colab_type": "code",
        "colab": {
          "base_uri": "https://localhost:8080/",
          "height": 291
        },
        "outputId": "008cb670-5330-4a16-c73b-f411cd277ed9"
      },
      "source": [
        "from sklearn.metrics import plot_confusion_matrix\n",
        "plot_confusion_matrix(SVM, x_test, y_test) \n",
        "plt.show()"
      ],
      "execution_count": 24,
      "outputs": [
        {
          "output_type": "display_data",
          "data": {
            "image/png": "[encoded data removed]",
            "text/plain": [
              "<Figure size 432x288 with 2 Axes>"
            ]
          },
          "metadata": {
            "tags": [],
            "needs_background": "light"
          }
        }
      ]
    },
    {
      "cell_type": "code",
      "metadata": {
        "id": "9c7OryifS8OV",
        "colab_type": "code",
        "colab": {
          "base_uri": "https://localhost:8080/",
          "height": 293
        },
        "outputId": "7268b635-1240-4db6-b8df-72ee3ae0a9d8"
      },
      "source": [
        "from sklearn.metrics import plot_confusion_matrix\n",
        "plot_confusion_matrix(nb, x_test, y_test) \n",
        "plt.show()"
      ],
      "execution_count": 25,
      "outputs": [
        {
          "output_type": "display_data",
          "data": {
            "image/png": "[encoded data removed]",
            "text/plain": [
              "<Figure size 432x288 with 2 Axes>"
            ]
          },
          "metadata": {
            "tags": [],
            "needs_background": "light"
          }
        }
      ]
    },
    {
      "cell_type": "code",
      "metadata": {
        "id": "ovni-nnKTE0g",
        "colab_type": "code",
        "colab": {}
      },
      "source": [
        ""
      ],
      "execution_count": 25,
      "outputs": []
    }
  ]
}